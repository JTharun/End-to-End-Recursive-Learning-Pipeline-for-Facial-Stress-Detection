{
 "cells": [
  {
   "cell_type": "code",
   "execution_count": 1,
   "id": "9cc913aa-46dc-4ef1-97c7-e3b267ab0b37",
   "metadata": {},
   "outputs": [],
   "source": [
    "import os\n",
    "import numpy as np\n",
    "import pandas as pd\n",
    "import seaborn as sns\n",
    "import tensorflow as tf\n",
    "import matplotlib.pyplot as plt\n",
    "import matplotlib.image as mpimg\n",
    "from tqdm import tqdm\n",
    "from tensorflow. keras.preprocessing.image import ImageDataGenerator\n",
    "from tensorflow.keras.utils import to_categorical\n",
    "from tensorflow.keras.layers import LeakyReLU\n",
    "from sklearn.model_selection import train_test_split\n",
    "from tensorflow.keras.models import Sequential \n",
    "from tensorflow.keras.layers import Dense ,Flatten ,Conv2D ,MaxPooling2D ,Dropout ,BatchNormalization ,GlobalMaxPool2D\n",
    "from tensorflow.keras.optimizers import Adam\n",
    "import cv2"
   ]
  },
  {
   "cell_type": "code",
   "execution_count": 2,
   "id": "e49f928e-05d8-4457-9b2f-4885cdbe3c78",
   "metadata": {},
   "outputs": [],
   "source": [
    "train_directory = \"data/train\"\n",
    "test_directory =  \"data/test\""
   ]
  },
  {
   "cell_type": "code",
   "execution_count": 3,
   "id": "7c89524e-ce5e-4692-bcd5-960a3cc46b9d",
   "metadata": {},
   "outputs": [],
   "source": [
    "labels = ['angry', 'disgusted', 'fearful', 'sad']\n",
    "class_map = {\n",
    "    'angry': 0,\n",
    "    'disgusted': 1,\n",
    "    'fearful': 2,\n",
    "    'sad': 3\n",
    "}\n",
    "\n",
    "inverse_class_map = {\n",
    "    0: 'angry',\n",
    "    1: 'disgusted',\n",
    "    2: 'fearful',\n",
    "    3: 'sad'\n",
    "}"
   ]
  },
  {
   "cell_type": "code",
   "execution_count": 4,
   "id": "f041022b-875d-4645-a338-07beec36987b",
   "metadata": {},
   "outputs": [
    {
     "name": "stderr",
     "output_type": "stream",
     "text": [
      "100%|████████████████████████████████████████████████████████████████████████████| 3995/3995 [00:01<00:00, 3427.82it/s]\n",
      "0it [00:00, ?it/s]\n",
      "0it [00:00, ?it/s]\n",
      "100%|█████████████████████████████████████████████████████████████████████████████| 4830/4830 [00:41<00:00, 115.99it/s]\n",
      "100%|███████████████████████████████████████████████████████████████████████████████| 958/958 [00:08<00:00, 119.74it/s]\n",
      "0it [00:00, ?it/s]\n",
      "0it [00:00, ?it/s]\n",
      "100%|█████████████████████████████████████████████████████████████████████████████| 1246/1246 [00:10<00:00, 122.65it/s]\n"
     ]
    }
   ],
   "source": [
    "IMAGE = []\n",
    "LABELS = []\n",
    "\n",
    "for label in labels:\n",
    "    folderPath = os.path.join(train_directory, label)\n",
    "    for j in tqdm(os.listdir(folderPath)):\n",
    "        img = cv2.imread(os.path.join(folderPath, j))\n",
    "        img = cv2.resize(img,(200, 200))\n",
    "        IMAGE.append(img)\n",
    "        LABELS.append(class_map[label])\n",
    "            \n",
    "        \n",
    "for label in labels:\n",
    "    folderPath = os.path.join(test_directory, label)\n",
    "    for j in tqdm(os.listdir(folderPath)):\n",
    "        img = cv2.imread(os.path.join(folderPath,j))\n",
    "        img = cv2.resize(img,(200, 200))\n",
    "        IMAGE.append(img)\n",
    "        LABELS.append(class_map[label])\n",
    "        \n",
    "X = np.array(IMAGE)\n",
    "y = np.array(LABELS)"
   ]
  },
  {
   "cell_type": "code",
   "execution_count": null,
   "id": "607b729f-b133-4032-ba71-761d56328258",
   "metadata": {},
   "outputs": [],
   "source": [
    "df=pd.DataFrame(\"Data_flow.csv\")"
   ]
  },
  {
   "cell_type": "code",
   "execution_count": null,
   "id": "f8ef0e9c-6f33-4179-9b12-976fe03de06c",
   "metadata": {},
   "outputs": [],
   "source": [
    "df"
   ]
  },
  {
   "cell_type": "code",
   "execution_count": null,
   "id": "b481081c-fbd6-48b1-836d-1d98f6d957bb",
   "metadata": {},
   "outputs": [],
   "source": [
    "for i in range(len(df)):\n",
    "    i+=1\n",
    "    x=np.array(df[\"img\"])\n",
    "    yy=np.array(df[\"Labels\"])\n",
    "    df=df.drop(i)\n",
    "    "
   ]
  },
  {
   "cell_type": "code",
   "execution_count": 5,
   "id": "a92f1f65-ec02-4f4b-917a-4e5db0014733",
   "metadata": {},
   "outputs": [],
   "source": [
    "\"Initial Trainer\"\n",
    "\n",
    "X_train, X_test, y_train, y_test = train_test_split(X, to_categorical(y), test_size=0.1, random_state=42)\n",
    "\n"
   ]
  },
  {
   "cell_type": "code",
   "execution_count": null,
   "id": "dae727f5-b5e9-49c3-b95f-0c7b12292a38",
   "metadata": {},
   "outputs": [],
   "source": [
    "\"Evolver\"\n",
    "X_train, X_test, y_train, y_test = train_test_split(x, to_categorical(yy), test_size=0.1, random_state=42)\n"
   ]
  },
  {
   "cell_type": "code",
   "execution_count": 6,
   "id": "4ab6c432-ef04-4e8d-ab40-0859bdae772c",
   "metadata": {},
   "outputs": [
    {
     "name": "stdout",
     "output_type": "stream",
     "text": [
      "Model: \"sequential\"\n",
      "_________________________________________________________________\n",
      " Layer (type)                Output Shape              Param #   \n",
      "=================================================================\n",
      " conv2d (Conv2D)             (None, 196, 196, 16)      1216      \n",
      "                                                                 \n",
      " max_pooling2d (MaxPooling2D  (None, 98, 98, 16)       0         \n",
      " )                                                               \n",
      "                                                                 \n",
      " conv2d_1 (Conv2D)           (None, 94, 94, 32)        12832     \n",
      "                                                                 \n",
      " max_pooling2d_1 (MaxPooling  (None, 47, 47, 32)       0         \n",
      " 2D)                                                             \n",
      "                                                                 \n",
      " conv2d_2 (Conv2D)           (None, 43, 43, 64)        51264     \n",
      "                                                                 \n",
      " max_pooling2d_2 (MaxPooling  (None, 21, 21, 64)       0         \n",
      " 2D)                                                             \n",
      "                                                                 \n",
      " conv2d_3 (Conv2D)           (None, 17, 17, 128)       204928    \n",
      "                                                                 \n",
      " max_pooling2d_3 (MaxPooling  (None, 8, 8, 128)        0         \n",
      " 2D)                                                             \n",
      "                                                                 \n",
      " conv2d_4 (Conv2D)           (None, 4, 4, 256)         819456    \n",
      "                                                                 \n",
      " max_pooling2d_4 (MaxPooling  (None, 2, 2, 256)        0         \n",
      " 2D)                                                             \n",
      "                                                                 \n",
      " flatten (Flatten)           (None, 1024)              0         \n",
      "                                                                 \n",
      " dense (Dense)               (None, 16)                16400     \n",
      "                                                                 \n",
      " dense_1 (Dense)             (None, 4)                 68        \n",
      "                                                                 \n",
      "=================================================================\n",
      "Total params: 1,106,164\n",
      "Trainable params: 1,106,164\n",
      "Non-trainable params: 0\n",
      "_________________________________________________________________\n"
     ]
    }
   ],
   "source": [
    "model =Sequential()\n",
    "\n",
    "#Hidden layer - 1\n",
    "model.add(Conv2D(filters = 16, kernel_size = (5, 5),\n",
    "                 strides = 1, padding='valid', activation = 'relu', input_shape=(200,200,3)))\n",
    "model.add(MaxPooling2D(pool_size = (2,2)))\n",
    "\n",
    "#Hidden layer - 2\n",
    "model.add(Conv2D(filters = 32, kernel_size = (5, 5),\n",
    "                 strides = 1, padding='valid', activation = 'relu' ))\n",
    "model.add(MaxPooling2D(pool_size = (2, 2)))\n",
    "\n",
    "#Hidden layer - 3\n",
    "model.add(Conv2D(filters = 64, kernel_size = (5, 5),\n",
    "                 strides = 1, padding='valid', activation = 'relu'))\n",
    "model.add(MaxPooling2D(pool_size = (2, 2)))\n",
    "\n",
    "#Hidden layer - 4\n",
    "model.add(Conv2D(filters = 128, kernel_size = (5, 5),\n",
    "                 strides = 1, padding ='valid', activation = 'relu'))\n",
    "model.add(MaxPooling2D(pool_size = (2, 2)))\n",
    "\n",
    "#Hidden layer - 5\n",
    "model.add(Conv2D(filters= 256, kernel_size = (5, 5),\n",
    "                 strides = 1, padding ='valid', activation = 'relu'))\n",
    "model.add(MaxPooling2D(pool_size = (2, 2)))\n",
    "\n",
    "#flatten layer\n",
    "model.add(Flatten())\n",
    "model.add(Dense((16), activation = 'relu'))\n",
    "\n",
    "#output layer\n",
    "model.add(Dense((4), activation = 'softmax'))\n",
    "\n",
    "\n",
    "model.summary()"
   ]
  },
  {
   "cell_type": "code",
   "execution_count": 7,
   "id": "d41be75c-f2d9-4e16-a917-b9d3ff4aba05",
   "metadata": {},
   "outputs": [],
   "source": [
    "model.compile(optimizer = 'adam',\n",
    "              loss='categorical_crossentropy',metrics=['accuracy'])"
   ]
  },
  {
   "cell_type": "code",
   "execution_count": 8,
   "id": "6d84d40c-7d0f-4da4-9012-87beec9350ab",
   "metadata": {},
   "outputs": [],
   "source": [
    "datagen = ImageDataGenerator(\n",
    "        rescale=1./255,\n",
    "        shear_range=0.2,\n",
    "        zoom_range=0.2,\n",
    "        horizontal_flip=True)"
   ]
  },
  {
   "cell_type": "code",
   "execution_count": 9,
   "id": "f5fcee15-47ad-4c48-870d-b6bc3e69d932",
   "metadata": {},
   "outputs": [
    {
     "name": "stdout",
     "output_type": "stream",
     "text": [
      "Epoch 1/20\n",
      "156/156 [==============================] - 255s 2s/step - loss: 0.7722 - accuracy: 0.5219 - val_loss: 11.1278 - val_accuracy: 0.5376\n",
      "Epoch 2/20\n",
      "156/156 [==============================] - 249s 2s/step - loss: 0.6997 - accuracy: 0.5395 - val_loss: 25.3628 - val_accuracy: 0.5195\n",
      "Epoch 3/20\n",
      "156/156 [==============================] - 256s 2s/step - loss: 0.6858 - accuracy: 0.5541 - val_loss: 11.0033 - val_accuracy: 0.5966\n",
      "Epoch 4/20\n",
      "156/156 [==============================] - 250s 2s/step - loss: 0.6710 - accuracy: 0.5886 - val_loss: 16.7395 - val_accuracy: 0.6310\n",
      "Epoch 5/20\n",
      "156/156 [==============================] - 246s 2s/step - loss: 0.6527 - accuracy: 0.6181 - val_loss: 30.9614 - val_accuracy: 0.5730\n",
      "Epoch 6/20\n",
      "156/156 [==============================] - 248s 2s/step - loss: 0.6292 - accuracy: 0.6461 - val_loss: 50.4324 - val_accuracy: 0.5947\n",
      "Epoch 7/20\n",
      "156/156 [==============================] - 250s 2s/step - loss: 0.6207 - accuracy: 0.6539 - val_loss: 28.5434 - val_accuracy: 0.6056\n",
      "Epoch 8/20\n",
      "156/156 [==============================] - 246s 2s/step - loss: 0.5960 - accuracy: 0.6776 - val_loss: 34.2115 - val_accuracy: 0.6627\n",
      "Epoch 9/20\n",
      "156/156 [==============================] - 247s 2s/step - loss: 0.5903 - accuracy: 0.6866 - val_loss: 44.5963 - val_accuracy: 0.6591\n",
      "Epoch 10/20\n",
      "156/156 [==============================] - 245s 2s/step - loss: 0.5725 - accuracy: 0.7022 - val_loss: 47.8651 - val_accuracy: 0.6392\n",
      "Epoch 11/20\n",
      "156/156 [==============================] - 246s 2s/step - loss: 0.5593 - accuracy: 0.7121 - val_loss: 60.7995 - val_accuracy: 0.6083\n",
      "Epoch 12/20\n",
      "156/156 [==============================] - 247s 2s/step - loss: 0.5440 - accuracy: 0.7229 - val_loss: 54.0449 - val_accuracy: 0.6374\n",
      "Epoch 13/20\n",
      "156/156 [==============================] - 244s 2s/step - loss: 0.5423 - accuracy: 0.7226 - val_loss: 37.3255 - val_accuracy: 0.7081\n",
      "Epoch 14/20\n",
      "156/156 [==============================] - 244s 2s/step - loss: 0.5244 - accuracy: 0.7387 - val_loss: 67.8896 - val_accuracy: 0.6646\n",
      "Epoch 15/20\n",
      "156/156 [==============================] - 244s 2s/step - loss: 0.5167 - accuracy: 0.7474 - val_loss: 55.0780 - val_accuracy: 0.6845\n",
      "Epoch 16/20\n",
      "156/156 [==============================] - 244s 2s/step - loss: 0.5046 - accuracy: 0.7516 - val_loss: 42.9778 - val_accuracy: 0.6809\n",
      "Epoch 17/20\n",
      "156/156 [==============================] - 244s 2s/step - loss: 0.4910 - accuracy: 0.7627 - val_loss: 39.5179 - val_accuracy: 0.7217\n",
      "Epoch 18/20\n",
      "156/156 [==============================] - 244s 2s/step - loss: 0.4888 - accuracy: 0.7663 - val_loss: 50.8153 - val_accuracy: 0.6772\n",
      "Epoch 19/20\n",
      "156/156 [==============================] - 243s 2s/step - loss: 0.4756 - accuracy: 0.7723 - val_loss: 48.0817 - val_accuracy: 0.7044\n",
      "Epoch 20/20\n",
      "156/156 [==============================] - 248s 2s/step - loss: 0.4590 - accuracy: 0.7786 - val_loss: 46.2944 - val_accuracy: 0.6981\n"
     ]
    }
   ],
   "source": [
    "\n",
    "\n",
    "history = model.fit(datagen.flow(X_train, y_train, batch_size = 64), validation_data = (X_test, y_test),\n",
    "                     epochs = 20)\n",
    "\n"
   ]
  },
  {
   "cell_type": "code",
   "execution_count": 11,
   "id": "dbffd0d6-8698-4236-a2f1-87763c1c2238",
   "metadata": {},
   "outputs": [],
   "source": [
    "from keras.models import load_model\n",
    "\n",
    "\n",
    "\n",
    "# save the model as HDF5 file\n",
    "model.save('Ghost.h5')\n"
   ]
  },
  {
   "cell_type": "code",
   "execution_count": null,
   "id": "f4235023-7f51-4082-8bbf-966900746e4f",
   "metadata": {},
   "outputs": [],
   "source": []
  }
 ],
 "metadata": {
  "kernelspec": {
   "display_name": "Python 3",
   "language": "python",
   "name": "python3"
  },
  "language_info": {
   "codemirror_mode": {
    "name": "ipython",
    "version": 3
   },
   "file_extension": ".py",
   "mimetype": "text/x-python",
   "name": "python",
   "nbconvert_exporter": "python",
   "pygments_lexer": "ipython3",
   "version": "3.8.8"
  }
 },
 "nbformat": 4,
 "nbformat_minor": 5
}
